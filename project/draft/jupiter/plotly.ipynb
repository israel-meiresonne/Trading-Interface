{
 "cells": [
  {
   "attachments": {},
   "cell_type": "markdown",
   "metadata": {},
   "source": [
    "## Input configuration"
   ]
  },
  {
   "cell_type": "code",
   "execution_count": null,
   "metadata": {},
   "outputs": [],
   "source": [
    "PROJECT_DIR =   '/Users/i.meiresonne.2018/MY-MAC/Dev/apollo21/project/'\n",
    "STRATEGY_STR =  'Solomon'\n",
    "BROKER_STR =    'Binance'"
   ]
  },
  {
   "attachments": {},
   "cell_type": "markdown",
   "metadata": {},
   "source": [
    "## Improrts"
   ]
  },
  {
   "cell_type": "code",
   "execution_count": null,
   "metadata": {},
   "outputs": [],
   "source": [
    "import os\n",
    "import sys\n",
    "\n",
    "if PROJECT_DIR not in sys.path:\n",
    "    JUPYTER_FILE_PATH = sys.path[0]\n",
    "    sys.path.append(PROJECT_DIR)\n",
    "\n",
    "import numpy as np\n",
    "import pandas as pd\n",
    "pd.options.mode.chained_assignment = None\n",
    "import plotly.graph_objects as go\n",
    "from plotly.subplots import make_subplots\n",
    "\n",
    "from config.Config import Config\n",
    "from model.structure.Broker import Broker\n",
    "from model.structure.database.ModelFeature import ModelFeature as _MF\n",
    "from model.structure.strategies.Strategy import Strategy\n",
    "from model.tools.FileManager import FileManager\n",
    "from model.tools.Map import Map\n",
    "from model.tools.MarketPrice import MarketPrice\n",
    "from model.tools.Pair import Pair\n",
    "from model.API.brokers.Binance.BinanceMarketPrice import BinanceMarketPrice\n",
    "# exec(_MF.get_import(STRATEGY_STR))\n",
    "exec(_MF.get_import(BROKER_STR))"
   ]
  },
  {
   "attachments": {},
   "cell_type": "markdown",
   "metadata": {},
   "source": [
    "## Configuration"
   ]
  },
  {
   "attachments": {},
   "cell_type": "markdown",
   "metadata": {},
   "source": [
    "### Functions 1"
   ]
  },
  {
   "cell_type": "code",
   "execution_count": null,
   "metadata": {},
   "outputs": [],
   "source": [
    "def get_broker(broker_str: str) -> Broker:\n",
    "    return eval(broker_str)\n",
    "def get_strategy(strategy_str: str) -> Strategy:\n",
    "    return eval(strategy_str)\n",
    "def check_type(value, expected_type) -> None:\n",
    "    if not isinstance(value, expected_type):\n",
    "        raise TypeError(f\"Expected type '{expected_type}', instead '{type(value)}'\")"
   ]
  },
  {
   "attachments": {},
   "cell_type": "markdown",
   "metadata": {},
   "source": [
    "### Constantes"
   ]
  },
  {
   "cell_type": "code",
   "execution_count": null,
   "metadata": {},
   "outputs": [],
   "source": [
    "_MF.OUTPUT = True\n",
    "Config.update(Config.STAGE_MODE, Config.STAGE_1)\n",
    "slpited_jupyter_file_path = JUPYTER_FILE_PATH.split('/')\n",
    "# SESSION_DIR = '/'.join(slpited_jupyter_file_path[:-1]) + '/'\n",
    "# SESSION_ID = slpited_jupyter_file_path[-2]\n",
    "# Config.update_session_id(SESSION_ID)\n",
    "# Config.update(Config.DIR_ACTUAL_SESSION, SESSION_DIR)\n",
    "# STRATEGY_CLASS =        get_strategy(STRATEGY_STR)\n",
    "# BACKTEST_FILE_PATH =    STRATEGY_CLASS.get_path_backtest_file(Map.test)\n",
    "BROKER_CLASS =          get_broker(BROKER_STR)\n",
    "# PERIODS =               STRATEGY_CLASS._REQUIRED_PERIODS\n",
    "PERIODS =               []\n",
    "PERIOD_1MIN =           Broker.PERIOD_1MIN\n",
    "PERIOD_5MIN =           Broker.PERIOD_5MIN\n",
    "PERIOD_15MIN =          Broker.PERIOD_15MIN\n",
    "PERIODS.append(PERIOD_1MIN) if PERIOD_1MIN not in PERIODS else None\n",
    "PERIODS.append(PERIOD_5MIN) if PERIOD_5MIN not in PERIODS else None\n",
    "PERIODS.append(PERIOD_15MIN) if PERIOD_15MIN not in PERIODS else None\n",
    "MARKETPRICES =          Map()\n",
    "PAIRS =                 None\n",
    "# PAIR =                  None\n",
    "# BACKTEST_PD =           None\n",
    "PLOTS =                 Map()\n",
    "START_TIME =            None\n",
    "END_TIME =              None\n",
    "# Keys\n",
    "K_OPEN_TIME =       Map.key(Map.open, Map.time)\n",
    "K_OPEN_DATE =       Map.key(Map.open, Map.date)\n",
    "# K_BUY_TIME =    Map.key(Map.buy, Map.time)\n",
    "# K_BUY_PRICE =   Map.key(Map.buy, Map.price)\n",
    "# K_SELL_PRICE =  Map.key(Map.sell, Map.price)\n",
    "K_KELTNER_LOW =     Map.key(Map.keltner, Map.low)\n",
    "K_KELTNER_MIDDLE =  Map.key(Map.keltner, Map.middle)\n",
    "K_KELTNER_HIGH =    Map.key(Map.keltner, Map.high)\n",
    "K_KELTNER_ROI =     Map.key(Map.keltner, Map.roi)"
   ]
  },
  {
   "attachments": {},
   "cell_type": "markdown",
   "metadata": {},
   "source": [
    "### Functions 2"
   ]
  },
  {
   "cell_type": "code",
   "execution_count": null,
   "metadata": {},
   "outputs": [],
   "source": [
    "def get_marketprice(pair: Pair, period) -> MarketPrice:\n",
    "    check_type(pair, Pair)\n",
    "    check_type(period, int)\n",
    "    return MARKETPRICES.get(pair, period)\n",
    "def set_plot(pair: Pair, period: int) -> None:\n",
    "    check_type(pair, Pair)\n",
    "    check_type(period, int)\n",
    "    marketprice = get_marketprice(pair, period)\n",
    "    marketprice_pd = marketprice.to_pd()\n",
    "    plot = marketprice_pd.loc[(marketprice_pd[Map.time] >= START_TIME) & (marketprice_pd[Map.time] <= END_TIME)]\n",
    "    plot.set_index(Map.time, drop=False, inplace=True)\n",
    "    open_dates_pd = _MF.df_apply(plot, [Map.time], _MF.unix_to_date)[Map.time]\n",
    "    plot.insert(0, K_OPEN_DATE, open_dates_pd)\n",
    "    plot.insert(1, Map.pair, pair)\n",
    "    PLOTS.put(plot, pair, period)\n",
    "def get_plot(pair: Pair, period: int) -> pd.DataFrame:\n",
    "    check_type(pair, Pair)\n",
    "    check_type(period, int)\n",
    "    plot = PLOTS.get(pair, period)\n",
    "    if plot is None:\n",
    "        set_plot(pair, period)\n",
    "        plot = PLOTS.get(pair, period)\n",
    "    return plot\n",
    "def add_keltner(plot: pd.DataFrame, marketprice: MarketPrice) -> pd.DataFrame:\n",
    "    check_type(plot, pd.DataFrame)\n",
    "    check_type(marketprice, MarketPrice)\n",
    "    if K_KELTNER_LOW not in plot.columns:\n",
    "        keltners = marketprice.get_keltnerchannel(multiple=1)\n",
    "        keltner_low = list(keltners.get(Map.low))\n",
    "        keltner_low.reverse()\n",
    "        keltner_middle = list(keltners.get(Map.middle))\n",
    "        keltner_middle.reverse()\n",
    "        keltner_high = list(keltners.get(Map.high))\n",
    "        keltner_high.reverse()\n",
    "        keltners_dict = {\n",
    "            K_OPEN_TIME:        marketprice.to_pd()[Map.time],\n",
    "            K_KELTNER_LOW:      keltner_low,\n",
    "            K_KELTNER_MIDDLE:   keltner_middle,\n",
    "            K_KELTNER_HIGH:     keltner_high\n",
    "        }\n",
    "        keltner_dict_keys = list(keltners_dict.keys())\n",
    "        keltners_pd = pd.DataFrame(keltners_dict)\n",
    "        keltners_pd.set_index(K_OPEN_TIME, inplace=True)\n",
    "        plot.loc[plot.index, keltner_dict_keys[1:]] = keltners_pd[keltner_dict_keys[1:]]\n",
    "        plot[K_KELTNER_ROI] = (plot[K_KELTNER_HIGH] / plot[K_KELTNER_LOW]) - 1\n",
    "    return plot"
   ]
  },
  {
   "attachments": {},
   "cell_type": "markdown",
   "metadata": {},
   "source": [
    "## Work Space"
   ]
  },
  {
   "attachments": {},
   "cell_type": "markdown",
   "metadata": {},
   "source": [
    "### Intantiates Pairs"
   ]
  },
  {
   "cell_type": "code",
   "execution_count": null,
   "metadata": {},
   "outputs": [],
   "source": [
    "pair_strs = ['aave/usdt', 'aca/usdt', 'ach/usdt', 'acm/usdt', 'ada/usdt', 'adx/usdt', 'agld/usdt', 'aion/usdt',\n",
    "             'akro/usdt', 'alcx/usdt', 'algo/usdt', 'alice/usdt', 'alpaca/usdt', 'alpha/usdt', 'alpine/usdt',\n",
    "             'amp/usdt', 'anc/usdt', 'ankr/usdt', 'ant/usdt', 'any/usdt', 'ape/usdt', 'api3/usdt', 'apt/usdt',\n",
    "             'ar/usdt', 'ardr/usdt', 'arpa/usdt', 'asr/usdt', 'astr/usdt', 'ata/usdt', 'atm/usdt', 'atom/usdt',\n",
    "             'auction/usdt', 'audio/usdt', 'auto/usdt', 'ava/usdt', 'avax/usdt', 'axs/usdt', 'badger/usdt',\n",
    "             'bake/usdt', 'bal/usdt', 'band/usdt', 'bar/usdt', 'bat/usdt', 'bch/usdt', 'beam/usdt', 'bel/usdt',\n",
    "             'beta/usdt', 'bico/usdt', 'bifi/usdt', 'bkrw/usdt', 'blz/usdt', 'bnb/usdt', 'bnt/usdt', 'bnx/usdt',\n",
    "             'bond/usdt', 'bsw/usdt', 'btc/usdt', 'btcst/usdt', 'btg/usdt', 'bts/usdt', 'btt/usdt', 'bttc/usdt',\n",
    "             'burger/usdt', 'bzrx/usdt', 'c98/usdt', 'cake/usdt', 'celo/usdt', 'celr/usdt', 'cfx/usdt', 'chess/usdt',\n",
    "             'chr/usdt', 'chz/usdt', 'city/usdt', 'ckb/usdt', 'clv/usdt', 'cocos/usdt', 'comp/usdt', 'cos/usdt',\n",
    "             'coti/usdt', 'crv/usdt', 'ctk/usdt', 'ctsi/usdt', 'ctxc/usdt', 'cvc/usdt', 'cvp/usdt', 'cvx/usdt',\n",
    "             'dar/usdt', 'dash/usdt', 'data/usdt', 'dcr/usdt', 'dego/usdt', 'dent/usdt', 'dexe/usdt', 'df/usdt',\n",
    "             'dgb/usdt', 'dia/usdt', 'dnt/usdt', 'dock/usdt', 'dodo/usdt', 'doge/usdt', 'dot/usdt', 'drep/usdt',\n",
    "             'dusk/usdt', 'dydx/usdt', 'egld/usdt', 'elf/usdt', 'enj/usdt', 'ens/usdt', 'eos/usdt', 'eps/usdt',\n",
    "             'epx/usdt', 'ern/usdt', 'etc/usdt', 'eth/usdt', 'farm/usdt', 'fet/usdt', 'fida/usdt', 'fil/usdt',\n",
    "             'fio/usdt', 'firo/usdt', 'fis/usdt', 'flm/usdt', 'flow/usdt', 'flux/usdt', 'for/usdt', 'forth/usdt',\n",
    "             'front/usdt', 'ftm/usdt', 'ftt/usdt', 'fun/usdt', 'fxs/usdt', 'gal/usdt', 'gala/usdt', 'ghst/usdt',\n",
    "             'glmr/usdt', 'gmt/usdt', 'gmx/usdt', 'gno/usdt', 'grt/usdt', 'gtc/usdt', 'gto/usdt', 'gxs/usdt',\n",
    "             'hard/usdt', 'hbar/usdt', 'hc/usdt', 'hft/usdt', 'high/usdt', 'hive/usdt', 'hnt/usdt', 'hook/usdt',\n",
    "             'hot/usdt', 'icp/usdt', 'icx/usdt', 'idex/usdt', 'ilv/usdt', 'imx/usdt', 'inj/usdt', 'iost/usdt',\n",
    "             'iota/usdt', 'iotx/usdt', 'iris/usdt', 'jasmy/usdt', 'joe/usdt', 'jst/usdt', 'juv/usdt', 'kava/usdt',\n",
    "             'kda/usdt', 'keep/usdt', 'key/usdt', 'klay/usdt', 'kmd/usdt', 'knc/usdt', 'kp3r/usdt', 'ksm/usdt',\n",
    "             'lazio/usdt', 'ldo/usdt', 'lend/usdt', 'lever/usdt', 'lina/usdt', 'link/usdt', 'lit/usdt', 'loka/usdt',\n",
    "             'lpt/usdt', 'lrc/usdt', 'lsk/usdt', 'ltc/usdt', 'lto/usdt', 'luna/usdt', 'lunc/usdt', 'magic/usdt',\n",
    "             'mana/usdt', 'mask/usdt', 'matic/usdt', 'mbl/usdt', 'mbox/usdt', 'mc/usdt', 'mco/usdt', 'mdt/usdt',\n",
    "             'mdx/usdt', 'mft/usdt', 'mina/usdt', 'mir/usdt', 'mith/usdt', 'mkr/usdt', 'mln/usdt', 'mob/usdt',\n",
    "             'movr/usdt', 'mtl/usdt', 'multi/usdt', 'nano/usdt', 'nbs/usdt', 'nbt/usdt', 'near/usdt', 'nebl/usdt',\n",
    "             'neo/usdt', 'nexo/usdt', 'nkn/usdt', 'nmr/usdt', 'npxs/usdt', 'nu/usdt', 'nuls/usdt', 'ocean/usdt',\n",
    "             'og/usdt', 'ogn/usdt', 'om/usdt', 'omg/usdt', 'one/usdt', 'ong/usdt', 'ont/usdt', 'ooki/usdt',\n",
    "             'op/usdt', 'orn/usdt', 'osmo/usdt', 'oxt/usdt', 'paxg/usdt', 'people/usdt', 'perl/usdt', 'perp/usdt',\n",
    "             'pha/usdt', 'phb/usdt', 'pla/usdt', 'pnt/usdt', 'pols/usdt', 'poly/usdt', 'polyx/usdt', 'pond/usdt',\n",
    "             'porto/usdt', 'powr/usdt', 'psg/usdt', 'pundix/usdt', 'pyr/usdt', 'qi/usdt', 'qnt/usdt', 'qtum/usdt',\n",
    "             'quick/usdt', 'rad/usdt', 'ramp/usdt', 'rare/usdt', 'ray/usdt', 'reef/usdt', 'rei/usdt', 'ren/usdt',\n",
    "             'rep/usdt', 'req/usdt', 'rgt/usdt', 'rif/usdt', 'rlc/usdt', 'rndr/usdt', 'rose/usdt', 'rune/usdt',\n",
    "             'rvn/usdt', 'sand/usdt', 'santos/usdt', 'sc/usdt', 'scrt/usdt', 'sfp/usdt', 'shib/usdt', 'skl/usdt',\n",
    "             'slp/usdt', 'snx/usdt', 'sol/usdt', 'spell/usdt', 'srm/usdt', 'steem/usdt', 'stg/usdt', 'stmx/usdt',\n",
    "             'storj/usdt', 'stpt/usdt', 'strat/usdt', 'strax/usdt', 'stx/usdt', 'sun/usdt', 'super/usdt',\n",
    "             'sushi/usdt', 'sxp/usdt', 'sys/usdt', 't/usdt', 'tct/usdt', 'tfuel/usdt', 'theta/usdt', 'tko/usdt',\n",
    "             'tlm/usdt', 'tomo/usdt', 'torn/usdt', 'trb/usdt', 'troy/usdt', 'tru/usdt', 'trx/usdt', 'tvk/usdt',\n",
    "             'twt/usdt', 'uma/usdt', 'unfi/usdt', 'uni/usdt', 'utk/usdt', 'vet/usdt', 'vgx/usdt', 'vidt/usdt',\n",
    "             'vite/usdt', 'voxel/usdt', 'vtho/usdt', 'wan/usdt', 'waves/usdt', 'waxp/usdt', 'win/usdt', 'wing/usdt',\n",
    "             'wnxm/usdt', 'woo/usdt', 'wrx/usdt', 'wtc/usdt', 'xec/usdt', 'xem/usdt', 'xlm/usdt', 'xmr/usdt', 'xno/usdt',\n",
    "             'xrp/usdt', 'xtz/usdt', 'xvg/usdt', 'xvs/usdt', 'xzc/usdt', 'yfi/usdt', 'yfii/usdt', 'ygg/usdt', 'zec/usdt',\n",
    "             'zen/usdt', 'zil/usdt', 'zrx/usdt']\n",
    "PAIRS = [Pair(pair_str) for pair_str in pair_strs]\n",
    "len(PAIRS)"
   ]
  },
  {
   "attachments": {},
   "cell_type": "markdown",
   "metadata": {},
   "source": [
    "### Load Marketprices"
   ]
  },
  {
   "cell_type": "code",
   "execution_count": null,
   "metadata": {},
   "outputs": [],
   "source": [
    "# START_TIME =    _MF.date_to_unix(\"2021-01-01 00:00:00\")\n",
    "# END_TIME =      _MF.date_to_unix(\"2023-01-01 00:00:00\")\n",
    "# period_1min =   PERIOD_1MIN\n",
    "# broker_class =  BROKER_CLASS\n",
    "# broker_str =    BROKER_STR\n",
    "# sub_pairs =     PAIRS\n",
    "# older_time = START_TIME - period_1min * broker_class.get_max_n_period()\n",
    "# older_time_milli = older_time * 1000\n",
    "# #\n",
    "# starttime = _MF.get_timestamp()\n",
    "# n_turn = len(sub_pairs)\n",
    "# for pair in sub_pairs:\n",
    "#     turn = sub_pairs.index(pair) + 1\n",
    "#     progresse_message = _MF.loop_progression(starttime, turn, n_turn, f\"Loading {pair.__str__().upper()}\")\n",
    "#     _MF.static_output(progresse_message)\n",
    "#     marketprice_pd = MarketPrice.load_marketprice(broker_str, pair, period_1min, False)\n",
    "#     marketprice_sliced_pd = marketprice_pd[(marketprice_pd['0'] >= older_time_milli) & (marketprice_pd['0'] <= END_TIME*1000)]\n",
    "#     period_str = broker_class.period_to_str(period_1min)\n",
    "#     marketprice_list = marketprice_sliced_pd.to_numpy().tolist()\n",
    "#     marketprice = MarketPrice.new_marketprice(broker_class, marketprice_list, pair, period_1min)\n",
    "#     MARKETPRICES.put(marketprice, pair, period_1min)"
   ]
  },
  {
   "attachments": {},
   "cell_type": "markdown",
   "metadata": {},
   "source": [
    "### Set keltner stats"
   ]
  },
  {
   "cell_type": "code",
   "execution_count": null,
   "metadata": {},
   "outputs": [],
   "source": [
    "# n_above_x_list = []\n",
    "# keltner_trigger_1 = 1/100\n",
    "# keltner_trigger_2 = 2/100\n",
    "# starttime = _MF.get_timestamp()\n",
    "# n_turn = len(sub_pairs)\n",
    "# for pair in sub_pairs:\n",
    "#     turn = sub_pairs.index(pair) + 1\n",
    "#     progresse_message = _MF.loop_progression(starttime, turn, n_turn, f\"Analyse of {pair.__str__().upper()}\")\n",
    "#     _MF.static_output(progresse_message)\n",
    "#     plot = get_plot(pair, PERIOD_1MIN)\n",
    "#     marketprice_1min = get_marketprice(pair, PERIOD_1MIN)\n",
    "#     add_keltner(plot, marketprice_1min)\n",
    "#     n_above_trigger_1 = plot[plot[K_KELTNER_ROI] >= keltner_trigger_1].shape[0]\n",
    "#     n_above_trigger_2 = plot[plot[K_KELTNER_ROI] >= keltner_trigger_2].shape[0]\n",
    "#     row = {\n",
    "#         Map.pair:           pair,\n",
    "#         Map.start:          plot[K_OPEN_DATE].iloc[0],\n",
    "#         Map.end:            plot[K_OPEN_DATE].iloc[-1],\n",
    "#         Map.interval:       _MF.delta_time(int(plot.index[0]), int(plot.index[-1])),\n",
    "#         keltner_trigger_1:  n_above_trigger_1,\n",
    "#         keltner_trigger_2:  n_above_trigger_2\n",
    "#     }\n",
    "#     n_above_x_list.append(row)"
   ]
  },
  {
   "attachments": {},
   "cell_type": "markdown",
   "metadata": {},
   "source": [
    "### Load and analyse Pair"
   ]
  },
  {
   "cell_type": "code",
   "execution_count": null,
   "metadata": {},
   "outputs": [],
   "source": [
    "START_TIME =    _MF.date_to_unix(\"2021-01-01 00:00:00\")\n",
    "END_TIME =      _MF.date_to_unix(\"2023-01-01 00:00:00\")\n",
    "period_1min =   PERIOD_1MIN\n",
    "broker_class =  BROKER_CLASS\n",
    "broker_str =    BROKER_STR\n",
    "sub_pairs =     PAIRS[:2]\n",
    "#\n",
    "older_time = START_TIME - period_1min * broker_class.get_max_n_period()\n",
    "older_time_milli = older_time * 1000\n",
    "#\n",
    "n_above_x_list = []\n",
    "keltner_trigger_1 = 1/100\n",
    "keltner_trigger_2 = 2/100\n",
    "#\n",
    "starttime = _MF.get_timestamp()\n",
    "n_turn = len(sub_pairs)\n",
    "for pair in sub_pairs:\n",
    "    turn = sub_pairs.index(pair) + 1\n",
    "    progresse_message = _MF.loop_progression(starttime, turn, n_turn, f\"Loading {pair.__str__().upper()}\")\n",
    "    _MF.static_output(progresse_message)\n",
    "    # Load\n",
    "    marketprice_pd = MarketPrice.load_marketprice(broker_str, pair, period_1min, False)\n",
    "    marketprice_sliced_pd = marketprice_pd[(marketprice_pd['0'] >= older_time_milli) & (marketprice_pd['0'] <= END_TIME*1000)]\n",
    "    period_str = broker_class.period_to_str(period_1min)\n",
    "    marketprice_list = marketprice_sliced_pd.to_numpy().tolist()\n",
    "    marketprice = MarketPrice.new_marketprice(broker_class, marketprice_list, pair, period_1min)\n",
    "    MARKETPRICES.put(marketprice, pair, period_1min)\n",
    "    # Analyse\n",
    "    progresse_message = _MF.loop_progression(starttime, turn, n_turn, f\"Analyse of {pair.__str__().upper()}\")\n",
    "    _MF.static_output(progresse_message)\n",
    "    plot = get_plot(pair, PERIOD_1MIN)\n",
    "    marketprice_1min = get_marketprice(pair, PERIOD_1MIN)\n",
    "    add_keltner(plot, marketprice_1min)\n",
    "    n_above_trigger_1 = plot[plot[K_KELTNER_ROI] >= keltner_trigger_1].shape[0]\n",
    "    n_above_trigger_2 = plot[plot[K_KELTNER_ROI] >= keltner_trigger_2].shape[0]\n",
    "    row = {\n",
    "        Map.pair:           pair,\n",
    "        Map.start:          plot[K_OPEN_DATE].iloc[0],\n",
    "        Map.end:            plot[K_OPEN_DATE].iloc[-1],\n",
    "        Map.interval:       _MF.delta_time(int(plot.index[0]), int(plot.index[-1])),\n",
    "        keltner_trigger_1:  n_above_trigger_1,\n",
    "        keltner_trigger_2:  n_above_trigger_2\n",
    "    }\n",
    "    n_above_x_list.append(row)\n",
    "    del MARKETPRICES\n",
    "    MARKETPRICES = Map()\n",
    "    del PLOTS\n",
    "    PLOTS = Map()"
   ]
  },
  {
   "attachments": {},
   "cell_type": "markdown",
   "metadata": {},
   "source": [
    "### Print keltner stats"
   ]
  },
  {
   "cell_type": "code",
   "execution_count": null,
   "metadata": {},
   "outputs": [],
   "source": [
    "prefix = _MF.unix_to_date(_MF.get_timestamp(), form=_MF.FORMAT_D_H_M_S_FOR_FILE)\n",
    "rows = sorted(n_above_x_list, key=lambda row: row[keltner_trigger_2], reverse=True)\n",
    "fields = list(rows[0].keys())\n",
    "path = f'jupiter/{prefix}_top_keltner_roi.csv'\n",
    "FileManager.write_csv(path, fields, rows)"
   ]
  },
  {
   "cell_type": "code",
   "execution_count": null,
   "metadata": {},
   "outputs": [],
   "source": [
    "class Hello:\n",
    "    A = None"
   ]
  },
  {
   "cell_type": "code",
   "execution_count": null,
   "metadata": {},
   "outputs": [],
   "source": [
    "del Hello.A"
   ]
  },
  {
   "cell_type": "code",
   "execution_count": null,
   "metadata": {},
   "outputs": [],
   "source": [
    "Hello.A = 'hello'"
   ]
  },
  {
   "cell_type": "code",
   "execution_count": null,
   "metadata": {},
   "outputs": [],
   "source": [
    "_MF.unix_to_date(_MF.get_timestamp())"
   ]
  }
 ],
 "metadata": {
  "kernelspec": {
   "display_name": "env_3.9.13",
   "language": "python",
   "name": "python3"
  },
  "language_info": {
   "codemirror_mode": {
    "name": "ipython",
    "version": 3
   },
   "file_extension": ".py",
   "mimetype": "text/x-python",
   "name": "python",
   "nbconvert_exporter": "python",
   "pygments_lexer": "ipython3",
   "version": "3.9.13 (main, Dec 12 2022, 12:21:59) \n[Clang 14.0.0 (clang-1400.0.29.202)]"
  },
  "orig_nbformat": 4,
  "vscode": {
   "interpreter": {
    "hash": "52ead1dffdab673ab1e8ae480ac8cd48e97b857134ab2ba762c7826bbeba5806"
   }
  }
 },
 "nbformat": 4,
 "nbformat_minor": 2
}
